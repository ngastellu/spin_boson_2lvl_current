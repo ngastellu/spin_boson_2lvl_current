{
 "cells": [
  {
   "cell_type": "markdown",
   "metadata": {},
   "source": [
    "# Fitting the conductance to Mott law and rare-chain hopping\n",
    "\n",
    "In this notebook, we evaluate the agreement between the current-temperature relation exhibited by our parametrisation of the toy model and Mott's law and rare-chain hopping."
   ]
  },
  {
   "cell_type": "markdown",
   "metadata": {},
   "source": [
    "## **Step 0:** Import packages and load data"
   ]
  },
  {
   "cell_type": "code",
   "execution_count": 6,
   "metadata": {},
   "outputs": [],
   "source": [
    "import numpy as np\n",
    "import matplotlib.pyplot as plt\n",
    "from matplotlib import rcParams\n",
    "from os import path\n",
    "from tensor_linregress import tensor_linregress\n",
    "from param_parser import ParameterParser\n",
    "import plt_utils\n",
    "\n",
    "rcParams['image.aspect'] = 'auto'\n",
    "\n",
    "kB = 8.617e-5\n",
    "\n",
    "npydir = 'MAC_aligned_focused_ohmic_dmu0.005'\n",
    "param_file = 'aligned_focused_max_dmu0.02_fine_grids.json'\n",
    "\n",
    "pp = ParameterParser(param_file)\n",
    "\n",
    "kappa_grid, w0_grid, temp_grid, e_grid = \\\n",
    "pp.load_grids(plist=['kappa_grid', 'frequency_grid',\\\n",
    "    'temperature_grid', 'energy_grid'])\n",
    "\n",
    "e_d, e_a, gamL, gamR, gam_phonon = pp.load_intrinsic()\n",
    "\n",
    "dmu = pp.load_specific(['ohmic_dmu'])[0]\n",
    "\n",
    "beta_grid = 1.0/(kB*temp_grid)\n",
    "\n",
    "I = np.load(path.join(npydir,'MAC_current_dis_dmu0.005_aligned.npy'))\n",
    "# Order of indices in I is (w0, kappa, T)\n",
    "\n",
    "G = I/dmu # conductance (assume ohmic regime I ~ dmu)\n",
    "logG = np.log(G)\n",
    "\n",
    "rtol = 0.95 #threshold for what we consider a 'good' fit\n"
   ]
  },
  {
   "cell_type": "markdown",
   "metadata": {},
   "source": [
    "## **Step 1:** Fit to Mott law in 1 dimension:\n",
    "$$\n",
    "G = G_0\\,\\text{exp}\\left\\{-\\left(\\frac{T_0}{T}\\right)^{1/(d+1)}\\right\\} = G_0\\,\\text{exp}\\left\\{-\\sqrt{\\frac{T_0}{T}}\\right\\}\n",
    "$$"
   ]
  },
  {
   "cell_type": "code",
   "execution_count": 13,
   "metadata": {},
   "outputs": [
    {
     "ename": "SyntaxError",
     "evalue": "invalid syntax (1696523733.py, line 26)",
     "output_type": "error",
     "traceback": [
      "\u001b[0;36m  Cell \u001b[0;32mIn [13], line 26\u001b[0;36m\u001b[0m\n\u001b[0;31m    plt.plot(w0_grid, a[,-1], ls='-',c=c, lw=0.8)\u001b[0m\n\u001b[0m                        ^\u001b[0m\n\u001b[0;31mSyntaxError\u001b[0m\u001b[0;31m:\u001b[0m invalid syntax\n"
     ]
    }
   ],
   "source": [
    "x = np.sqrt(beta_grid)\n",
    "a1, b1, r1 = tensor_linregress(x,logG)\n",
    "\n",
    "print(a1.shape)\n",
    "print(a1[:,-1].shape)\n",
    "\n",
    "plt.imshow((r1**2).T,origin='lower',extent=[*w0_grid[[0,-1]], *kappa_grid[[0,-1]]])\n",
    "plt.xlabel('$\\omega_0$ [eV]')\n",
    "plt.ylabel('$\\kappa$ [eV]')\n",
    "plt.suptitle('Quality of exponential fit of $G$ vs. $\\sqrt{\\\\beta}$ assuming $\\Delta\\mu = %f$ eV.'%(dmu))\n",
    "plt.colorbar()\n",
    "plt.show()\n",
    "\n",
    "plt.imshow(((r1**2) > rtol).T,origin='lower',extent=[*w0_grid[[0,-1]], *kappa_grid[[0,-1]]])\n",
    "plt.xlabel('$\\omega_0$ [eV]')\n",
    "plt.ylabel('$\\kappa$ [eV]')\n",
    "plt.suptitle('Quality of exponential fit of $G$ vs. $\\sqrt{\\\\beta}$ assuming $\\Delta\\mu = %f$ eV\\nShowing only fits with $r^2 > %f$.'%(dmu,rtol))\n",
    "plt.colorbar()\n",
    "plt.show()\n",
    "\n",
    "print(np.max(np.abs(r1 - r1[:,0][:,None])))\n",
    "\n",
    "cm = plt_utils.get_cm(w0_grid,'plasma')\n",
    "\n",
    "for a, c in zip(a1,cm):\n",
    "    plt.plot(w0_grid, a[:,-1], ls='-',c=c, lw=0.8)\n",
    "plt.xlabel('$\\omega_0$ [eV]')\n",
    "plt.ylabel('Slope of linear fit')\n",
    "plt.show()\n",
    "\n",
    "np.save('fit_params_mott.npy',np.vstack((a1[:,0],b1[:,0],r1[:,0])))"
   ]
  }
 ],
 "metadata": {
  "kernelspec": {
   "display_name": "Python 3.9.13 ('base')",
   "language": "python",
   "name": "python3"
  },
  "language_info": {
   "codemirror_mode": {
    "name": "ipython",
    "version": 3
   },
   "file_extension": ".py",
   "mimetype": "text/x-python",
   "name": "python",
   "nbconvert_exporter": "python",
   "pygments_lexer": "ipython3",
   "version": "3.9.13"
  },
  "orig_nbformat": 4,
  "vscode": {
   "interpreter": {
    "hash": "79d53e2e3f3357e27f4d32bf088d4f1991bddd65b1f38f3a2694c1c60a1b6da0"
   }
  }
 },
 "nbformat": 4,
 "nbformat_minor": 2
}
